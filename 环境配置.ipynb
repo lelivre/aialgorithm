{
 "cells": [
  {
   "cell_type": "markdown",
   "metadata": {},
   "source": [
    "## ubuntu将默认的nano编辑器改为vim"
   ]
  },
  {
   "cell_type": "markdown",
   "metadata": {},
   "source": [
    "找陌生人\n",
    "\n",
    "`<sudo update-alternatives --config editor>`\n",
    "\n",
    "反而不好"
   ]
  },
  {
   "cell_type": "markdown",
   "metadata": {},
   "source": [
    "然后在返回的对话中选择第4项vim.basic。"
   ]
  },
  {
   "cell_type": "markdown",
   "metadata": {},
   "source": [
    "It's very easy to make some words **bold** and other words *italic* with Markdown. You can even [link to Google!](http://google.com)"
   ]
  },
  {
   "cell_type": "markdown",
   "metadata": {},
   "source": [
    "As Kanye West said:\n",
    "\n",
    "> We're living the future \n",
    "> so the present is our past.\n",
    "\n",
    "I think you should use an\n",
    "`<addr>` element here instead.\n",
    "\n",
    "```javascript\n",
    "function fancyAlert(arg) {\n",
    "  if(arg) {\n",
    "    $.facebox({div:'#foo'})\n",
    "  }\n",
    "}\n",
    "```\n",
    "\n",
    "    function fancyAlert(arg) {\n",
    "      if(arg) {\n",
    "        $.facebox({div:'#foo'})\n",
    "      }\n",
    "    }\n",
    "    \n",
    "    \n",
    "```\n",
    "def foo():\n",
    "    if not bar:\n",
    "        return True\n",
    "    \n",
    "    "
   ]
  },
  {
   "cell_type": "markdown",
   "metadata": {},
   "source": [
    "```javascript\n",
    "function fancyAlert(arg) {\n",
    "  if(arg) {\n",
    "    $.facebox({div:'#foo'})\n",
    "  }\n",
    "}\n",
    "```"
   ]
  },
  {
   "cell_type": "markdown",
   "metadata": {},
   "source": [
    "* Item 1\n",
    "* Item 2\n",
    "  * Item 2a\n",
    "  * Item 2b"
   ]
  },
  {
   "cell_type": "markdown",
   "metadata": {},
   "source": [
    "1. Item 1\n",
    "1. Item 2\n",
    "1. Item 3\n",
    "   1. Item 3a\n",
    "   1. Item 3b"
   ]
  }
 ],
 "metadata": {
  "kernelspec": {
   "display_name": "Python 3",
   "language": "python",
   "name": "python3"
  },
  "language_info": {
   "codemirror_mode": {
    "name": "ipython",
    "version": 3
   },
   "file_extension": ".py",
   "mimetype": "text/x-python",
   "name": "python",
   "nbconvert_exporter": "python",
   "pygments_lexer": "ipython3",
   "version": "3.6.2"
  }
 },
 "nbformat": 4,
 "nbformat_minor": 2
}
